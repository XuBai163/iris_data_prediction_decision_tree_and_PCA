{
 "cells": [
  {
   "cell_type": "code",
   "execution_count": 7,
   "id": "9df6aeca",
   "metadata": {},
   "outputs": [],
   "source": [
    "# import packages \n",
    "import numpy as np\n",
    "import pandas as pd\n",
    "from matplotlib import pyplot as plt\n",
    "from sklearn.neighbors import KNeighborsClassifier\n",
    "from sklearn.preprocessing import StandardScaler\n",
    "from sklearn.decomposition import PCA\n",
    "from sklearn.metrics import accuracy_score"
   ]
  },
  {
   "cell_type": "code",
   "execution_count": 2,
   "id": "0702159c",
   "metadata": {},
   "outputs": [
    {
     "data": {
      "text/html": [
       "<div>\n",
       "<style scoped>\n",
       "    .dataframe tbody tr th:only-of-type {\n",
       "        vertical-align: middle;\n",
       "    }\n",
       "\n",
       "    .dataframe tbody tr th {\n",
       "        vertical-align: top;\n",
       "    }\n",
       "\n",
       "    .dataframe thead th {\n",
       "        text-align: right;\n",
       "    }\n",
       "</style>\n",
       "<table border=\"1\" class=\"dataframe\">\n",
       "  <thead>\n",
       "    <tr style=\"text-align: right;\">\n",
       "      <th></th>\n",
       "      <th>sepal length</th>\n",
       "      <th>sepal width</th>\n",
       "      <th>petal length</th>\n",
       "      <th>petal width</th>\n",
       "      <th>target</th>\n",
       "      <th>label</th>\n",
       "    </tr>\n",
       "  </thead>\n",
       "  <tbody>\n",
       "    <tr>\n",
       "      <th>0</th>\n",
       "      <td>5.1</td>\n",
       "      <td>3.5</td>\n",
       "      <td>1.4</td>\n",
       "      <td>0.2</td>\n",
       "      <td>Iris-setosa</td>\n",
       "      <td>0</td>\n",
       "    </tr>\n",
       "    <tr>\n",
       "      <th>1</th>\n",
       "      <td>4.9</td>\n",
       "      <td>3.0</td>\n",
       "      <td>1.4</td>\n",
       "      <td>0.2</td>\n",
       "      <td>Iris-setosa</td>\n",
       "      <td>0</td>\n",
       "    </tr>\n",
       "    <tr>\n",
       "      <th>2</th>\n",
       "      <td>4.7</td>\n",
       "      <td>3.2</td>\n",
       "      <td>1.3</td>\n",
       "      <td>0.2</td>\n",
       "      <td>Iris-setosa</td>\n",
       "      <td>0</td>\n",
       "    </tr>\n",
       "    <tr>\n",
       "      <th>3</th>\n",
       "      <td>4.6</td>\n",
       "      <td>3.1</td>\n",
       "      <td>1.5</td>\n",
       "      <td>0.2</td>\n",
       "      <td>Iris-setosa</td>\n",
       "      <td>0</td>\n",
       "    </tr>\n",
       "    <tr>\n",
       "      <th>4</th>\n",
       "      <td>5.0</td>\n",
       "      <td>3.6</td>\n",
       "      <td>1.4</td>\n",
       "      <td>0.2</td>\n",
       "      <td>Iris-setosa</td>\n",
       "      <td>0</td>\n",
       "    </tr>\n",
       "  </tbody>\n",
       "</table>\n",
       "</div>"
      ],
      "text/plain": [
       "   sepal length  sepal width  petal length  petal width       target  label\n",
       "0           5.1          3.5           1.4          0.2  Iris-setosa      0\n",
       "1           4.9          3.0           1.4          0.2  Iris-setosa      0\n",
       "2           4.7          3.2           1.3          0.2  Iris-setosa      0\n",
       "3           4.6          3.1           1.5          0.2  Iris-setosa      0\n",
       "4           5.0          3.6           1.4          0.2  Iris-setosa      0"
      ]
     },
     "execution_count": 2,
     "metadata": {},
     "output_type": "execute_result"
    }
   ],
   "source": [
    "# laod data\n",
    "data = pd.read_csv('iris_data.csv')\n",
    "data.head()"
   ]
  },
  {
   "cell_type": "code",
   "execution_count": 4,
   "id": "59a4050d",
   "metadata": {},
   "outputs": [],
   "source": [
    "# define X and y\n",
    "X = data.drop(['target', 'label'], axis = 1)\n",
    "y = data.loc[:, 'label']"
   ]
  },
  {
   "cell_type": "code",
   "execution_count": 5,
   "id": "bb7ef807",
   "metadata": {},
   "outputs": [],
   "source": [
    "# set up KNN model \n",
    "knn = KNeighborsClassifier(n_neighbors = 3)"
   ]
  },
  {
   "cell_type": "code",
   "execution_count": 6,
   "id": "63b2313b",
   "metadata": {},
   "outputs": [
    {
     "data": {
      "text/plain": [
       "KNeighborsClassifier(n_neighbors=3)"
      ]
     },
     "execution_count": 6,
     "metadata": {},
     "output_type": "execute_result"
    }
   ],
   "source": [
    "# train the model\n",
    "knn.fit(X, y)"
   ]
  },
  {
   "cell_type": "code",
   "execution_count": 8,
   "id": "0bdbf7cd",
   "metadata": {},
   "outputs": [
    {
     "name": "stdout",
     "output_type": "stream",
     "text": [
      "0.96\n"
     ]
    }
   ],
   "source": [
    "# evaluate model's performance \n",
    "y_predict = knn.predict(X)\n",
    "accuracy = accuracy_score(y, y_predict)\n",
    "print(accuracy)"
   ]
  },
  {
   "cell_type": "code",
   "execution_count": 11,
   "id": "d81d4eae",
   "metadata": {},
   "outputs": [
    {
     "name": "stdout",
     "output_type": "stream",
     "text": [
      "(150, 4)\n"
     ]
    }
   ],
   "source": [
    "# print shape of X\n",
    "print(X.shape)"
   ]
  },
  {
   "cell_type": "code",
   "execution_count": 10,
   "id": "72c3b107",
   "metadata": {},
   "outputs": [],
   "source": [
    "# standardize data before PCA\n",
    "X_norm = StandardScaler().fit_transform(X)"
   ]
  },
  {
   "cell_type": "code",
   "execution_count": 13,
   "id": "11b544e9",
   "metadata": {},
   "outputs": [],
   "source": [
    "# PCA analysis\n",
    "pca = PCA(n_components = 4)\n",
    "X_pca = pca.fit_transform(X_norm)"
   ]
  },
  {
   "cell_type": "code",
   "execution_count": 14,
   "id": "4f974b57",
   "metadata": {},
   "outputs": [
    {
     "name": "stdout",
     "output_type": "stream",
     "text": [
      "[0.72770452 0.23030523 0.03683832 0.00515193]\n"
     ]
    }
   ],
   "source": [
    "# calculate the variance ratio of each principle components\n",
    "var_ratio = pca.explained_variance_ratio_\n",
    "print(var_ratio)"
   ]
  },
  {
   "cell_type": "code",
   "execution_count": 15,
   "id": "e16a97e2",
   "metadata": {},
   "outputs": [
    {
     "data": {
      "image/png": "[encoded data removed]",
      "text/plain": [
       "<Figure size 1440x360 with 1 Axes>"
      ]
     },
     "metadata": {
      "needs_background": "light"
     },
     "output_type": "display_data"
    }
   ],
   "source": [
    "# visualize the explained variance ratio\n",
    "fig2 = plt.figure(figsize=(20,5))\n",
    "plt.bar([1,2,3,4], var_ratio)\n",
    "plt.xticks([1,2,3,4], ['PC1','PC2','PC3','PC4'])\n",
    "plt.ylabel('variance ratio of each PC')\n",
    "plt.show()"
   ]
  },
  {
   "cell_type": "code",
   "execution_count": 16,
   "id": "f5f7749e",
   "metadata": {},
   "outputs": [],
   "source": [
    "# PCA dimensionality reduction\n",
    "pca = PCA(n_components = 2)\n",
    "X_pca = pca.fit_transform(X_norm)"
   ]
  },
  {
   "cell_type": "code",
   "execution_count": 18,
   "id": "95933d8b",
   "metadata": {},
   "outputs": [
    {
     "name": "stdout",
     "output_type": "stream",
     "text": [
      "(150, 2)\n"
     ]
    }
   ],
   "source": [
    "# print shape of X (after PCA)\n",
    "print(X_pca.shape)"
   ]
  },
  {
   "cell_type": "code",
   "execution_count": 19,
   "id": "406d5da3",
   "metadata": {},
   "outputs": [
    {
     "data": {
      "image/png": "[encoded data removed]",
      "text/plain": [
       "<Figure size 360x216 with 1 Axes>"
      ]
     },
     "metadata": {
      "needs_background": "light"
     },
     "output_type": "display_data"
    }
   ],
   "source": [
    "# visualize PCA result\n",
    "fig3 = plt.figure(figsize = (5, 3))\n",
    "\n",
    "setosa = plt.scatter(X_pca[:,0][y==0], X_pca[:,1][y==0])\n",
    "versicolor = plt.scatter(X_pca[:,0][y==1], X_pca[:,1][y==1])\n",
    "virginica = plt.scatter(X_pca[:,0][y==2], X_pca[:,1][y==2])\n",
    "\n",
    "plt.legend((setosa,versicolor,virginica), ('setosa','versicolor','virginica'))\n",
    "\n",
    "plt.xlabel('PC1')\n",
    "plt.ylabel('PC2')\n",
    "\n",
    "plt.show()"
   ]
  },
  {
   "cell_type": "code",
   "execution_count": 20,
   "id": "949481b2",
   "metadata": {},
   "outputs": [],
   "source": [
    "# set up KNN model \n",
    "knn = KNeighborsClassifier(n_neighbors = 3)"
   ]
  },
  {
   "cell_type": "code",
   "execution_count": 22,
   "id": "06029f20",
   "metadata": {},
   "outputs": [
    {
     "data": {
      "text/plain": [
       "KNeighborsClassifier(n_neighbors=3)"
      ]
     },
     "execution_count": 22,
     "metadata": {},
     "output_type": "execute_result"
    }
   ],
   "source": [
    "# train the model with PCA data\n",
    "knn.fit(X_pca, y)"
   ]
  },
  {
   "cell_type": "code",
   "execution_count": 24,
   "id": "52560844",
   "metadata": {},
   "outputs": [
    {
     "name": "stdout",
     "output_type": "stream",
     "text": [
      "0.9466666666666667\n"
     ]
    }
   ],
   "source": [
    "# make a prediction with training data\n",
    "y_predict_pca = knn.predict(X_pca)\n",
    "accuracy_pca = accuracy_score(y, y_predict_pca)\n",
    "print(accuracy_pca)"
   ]
  },
  {
   "cell_type": "code",
   "execution_count": null,
   "id": "1590f019",
   "metadata": {},
   "outputs": [],
   "source": []
  }
 ],
 "metadata": {
  "kernelspec": {
   "display_name": "Python 3",
   "language": "python",
   "name": "python3"
  },
  "language_info": {
   "codemirror_mode": {
    "name": "ipython",
    "version": 3
   },
   "file_extension": ".py",
   "mimetype": "text/x-python",
   "name": "python",
   "nbconvert_exporter": "python",
   "pygments_lexer": "ipython3",
   "version": "3.7.5"
  }
 },
 "nbformat": 4,
 "nbformat_minor": 5
}
